{
 "cells": [
  {
   "metadata": {},
   "cell_type": "markdown",
   "source": [
    "## Welcher Produzenten könnte in Zukunft besonders erfolgreiche Animes produzieren?\n",
    "\n",
    "Berechne den Spearman-Korrelationskoeffizienten zwischen der Anzahl erfolgreicher Animes eines Produzenten und der Anzahl der Verbindungen zu wichtigen Produzenten oder beliebten Animes.\n",
    "\n",
    "Spearman-Korrelation misst den monotonen Zusammenhang zwischen den Rängen der Studioerfolgszahlen und den Verbindungen zu Top-Animes oder anderen Produzenten."
   ],
   "id": "b67698668faffbe6"
  },
  {
   "metadata": {
    "ExecuteTime": {
     "end_time": "2024-12-23T11:16:19.351366Z",
     "start_time": "2024-12-23T11:16:19.326923Z"
    }
   },
   "cell_type": "code",
   "source": [
    "import pandas as pd\n",
    "\n",
    "# Dateien laden\n",
    "producer_relations_path = 'data/Producer_Relations.csv'\n",
    "producer_nodes_path = 'data/Producer_Nodes.csv'\n",
    "anime_nodes_path = 'data/Anime_Nodes.csv'\n",
    "\n",
    "producer_relations = pd.read_csv(producer_relations_path)\n",
    "producer_nodes = pd.read_csv(producer_nodes_path)\n",
    "anime_nodes = pd.read_csv(anime_nodes_path)\n",
    "\n",
    "\n",
    "# Titel und Tabellen anzeigen\n",
    "print(\"\\n===== Producer Relations =====\")\n",
    "print(producer_relations.head(10).to_string(index=False))  # Zeige die ersten 10 Zeilen als Tabelle\n",
    "\n",
    "print(\"\\n===== Producer Nodes =====\")\n",
    "print(producer_nodes.head(10).to_string(index=False))  # Zeige die ersten 10 Zeilen als Tabelle\n",
    "\n",
    "print(\"\\n===== Anime Nodes =====\")\n",
    "print(anime_nodes.head(10).to_string(index=False))  # Zeige die ersten 10 Zeilen als Tabelle\n"
   ],
   "id": "d14fe158dd808c8f",
   "outputs": [
    {
     "name": "stdout",
     "output_type": "stream",
     "text": [
      "\n",
      "===== Producer Relations =====\n",
      " source  target       type\n",
      "  52991      17 undirected\n",
      "  52991      53 undirected\n",
      "  52991      62 undirected\n",
      "  52991    1003 undirected\n",
      "  52991    1143 undirected\n",
      "  52991    1430 undirected\n",
      "   5114      17 undirected\n",
      "   5114      58 undirected\n",
      "   5114     143 undirected\n",
      "   5114    1499 undirected\n",
      "\n",
      "===== Producer Nodes =====\n",
      "  id    label                      name\n",
      "2015 Producer     HoriPro International\n",
      "1916 Producer        Kadokawa Animation\n",
      "1850 Producer         Rex Entertainment\n",
      "1784 Producer Crunchyroll SC Anime Fund\n",
      "1619 Producer             Bungeishunjuu\n",
      "1586 Producer                       CIC\n",
      "1553 Producer          Shounen Gahousha\n",
      "2511 Producer                 Blue Lynx\n",
      "1355 Producer                  TV Aichi\n",
      " 199 Producer                Studio Nue\n",
      "\n",
      "===== Anime Nodes =====\n",
      "   id label                               name  score  rank                  studio\n",
      "52991 Anime                  Sousou no Frieren   9.32     1              [Madhouse]\n",
      " 5114 Anime   Fullmetal Alchemist: Brotherhood   9.10     2                 [Bones]\n",
      " 9253 Anime                        Steins;Gate   9.07     4             [White Fox]\n",
      "38524 Anime Shingeki no Kyojin Season 3 Part 2   9.05     5            [Wit Studio]\n",
      "28977 Anime                           Gintama°   9.05     6 [Bandai Namco Pictures]\n",
      "39486 Anime                 Gintama: The Final   9.04     7 [Bandai Namco Pictures]\n",
      " 9969 Anime                           Gintama'   9.03     8               [Sunrise]\n",
      "11061 Anime             Hunter x Hunter (2011)   9.03     9              [Madhouse]\n",
      "15417 Anime                Gintama': Enchousen   9.02    10               [Sunrise]\n",
      "41467 Anime          Bleach: Sennen Kessen-hen   9.00    12               [Pierrot]\n"
     ]
    }
   ],
   "execution_count": 18
  },
  {
   "metadata": {},
   "cell_type": "markdown",
   "source": "Die Anzahl der Verbindungen (Degree Centrality) wurde erfolgreich berechnet und den Produzenten zugeordnet. Zum Beispiel hat „HoriPro International“ zwei Verbindungen.",
   "id": "9ea6247e59c849b9"
  }
 ],
 "metadata": {
  "kernelspec": {
   "name": "python3",
   "language": "python",
   "display_name": "Python 3 (ipykernel)"
  }
 },
 "nbformat": 5,
 "nbformat_minor": 9
}
